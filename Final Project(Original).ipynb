{
 "cells": [
  {
   "cell_type": "code",
   "execution_count": 2,
   "id": "46b77167-911c-48e2-9f1d-9fae4e4cfe25",
   "metadata": {},
   "outputs": [
    {
     "name": "stdout",
     "output_type": "stream",
     "text": [
      "/home/ssg145/final\n"
     ]
    }
   ],
   "source": [
    "import pandas as pd\n",
    "import numpy as np\n",
    "import os\n",
    "\n",
    "print(os.getcwd())"
   ]
  },
  {
   "cell_type": "code",
   "execution_count": 20,
   "id": "051d1343-c600-42a8-8ae8-d797e1640652",
   "metadata": {},
   "outputs": [
    {
     "name": "stdout",
     "output_type": "stream",
     "text": [
      "Rows: 207, Columns: 39\n",
      "  Country of Origin  Number of Bags Bag Weight  \\\n",
      "0          Colombia               1      35 kg   \n",
      "1            Taiwan               1      80 kg   \n",
      "\n",
      "                 In-Country Partner Harvest Year          Grading Date  \\\n",
      "0             Japan Coffee Exchange  2021 / 2022  September 21st, 2022   \n",
      "1  Taiwan Coffee Laboratory 台灣咖啡研究室  2021 / 2022   November 15th, 2022   \n",
      "\n",
      "                              Owner   Variety     Status  \\\n",
      "0              Coffee Quality Union  Castillo  Completed   \n",
      "1  Taiwan Coffee Laboratory 台灣咖啡研究室     Gesha  Completed   \n",
      "\n",
      "         Processing Method  ...  Total Cup Points  Moisture Percentage  \\\n",
      "0  Double Anaerobic Washed  ...             89.33                 11.8   \n",
      "1             Washed / Wet  ...             87.58                 10.5   \n",
      "\n",
      "   Category One Defects  Quakers       Color  Category Two Defects  \\\n",
      "0                     0        0       green                     3   \n",
      "1                     0        0  blue-green                     0   \n",
      "\n",
      "             Expiration                Certification Body  \\\n",
      "0  September 21st, 2023             Japan Coffee Exchange   \n",
      "1   November 15th, 2023  Taiwan Coffee Laboratory 台灣咖啡研究室   \n",
      "\n",
      "                               Certification Address  \\\n",
      "0  〒413-0002 静岡県熱海市伊豆山１１７３−５８ 1173-58 Izusan, Ata...   \n",
      "1  QAHWAH CO., LTD 4F, No. 225, Sec. 3, Beixin Rd...   \n",
      "\n",
      "                     Certification Contact  \n",
      "0  松澤　宏樹　Koju Matsuzawa - +81(0)9085642901  \n",
      "1     Lin, Jen-An Neil 林仁安 - 886-289116612  \n",
      "\n",
      "[2 rows x 31 columns]\n"
     ]
    }
   ],
   "source": [
    "project_dir = os.getcwd()\n",
    "\n",
    "# Construct the full path to the CSV file\n",
    "file_path = os.path.join(project_dir, 'coffee.csv')\n",
    "\n",
    "# Read the CSV file\n",
    "df = pd.read_csv(file_path)\n",
    "\n",
    "#df = pd.read_csv('/home/ssg145/final/coffee.csv')\n",
    "\n",
    "#initial_size = df.shape[0]\n",
    "#print(df.head(6))\n",
    "\n",
    "#CLEANING UP THE DATA \n",
    "df = df.drop(columns=['ID'])\n",
    "#print(df.head(6))\n",
    "\n",
    "df = df.iloc[:, 1:]\n",
    "#print(df.head(6))\n",
    "\n",
    "dimensions = df.shape\n",
    "print(f\"Rows: {dimensions[0]}, Columns: {dimensions[1]}\")\n",
    "#df = df.iloc[:, :1].join(df.iloc[:, 9:])\n",
    "#df=df.iloc[:, :10].join(df.iloc[:, 25:])\n",
    "#df=df.iloc[:, :26].join(df.iloc[:, 25:])\n",
    "df = pd\n",
    "\n",
    "print(df.head(2))\n",
    "\n",
    "#May want to drop all the columns except the country name, no. of bags, harvest year and bag weight."
   ]
  },
  {
   "cell_type": "code",
   "execution_count": 21,
   "id": "299a6d61-8e4f-4d44-8edf-e0065518f5ae",
   "metadata": {},
   "outputs": [
    {
     "name": "stdout",
     "output_type": "stream",
     "text": [
      "               Country  Year  Production amt\n",
      "0              Bahamas  1961          1260.7\n",
      "1               Brunei  1961          1289.8\n",
      "2                Qatar  1961          1769.2\n",
      "3        Faroe Islands  1961             0.0\n",
      "4               Tuvalu  1961            30.0\n",
      "5  Antigua and Barbuda  1961           395.0\n"
     ]
    }
   ],
   "source": [
    "project_dir = os.getcwd()\n",
    "\n",
    "# Construct the full path to the CSV file\n",
    "file_path = os.path.join(project_dir, 'meat.csv')\n",
    "df = pd.read_csv(file_path)\n",
    "#df = pd.read_csv('/home/ssg145/final/meat.csv')\n",
    "initial_size = df.shape[0]\n",
    "\n",
    "#print(df.head(6))\n",
    "\n",
    "#CLEANING UP DATA\n",
    "df = df.drop(columns=['Code'])\n",
    "#print(df.head(6))\n",
    "\n",
    "df = df.rename(columns={'Meat, total | 00001765 || Production | 005510 || tonnes': 'Production amt'})\n",
    "print(df.head(6))\n"
   ]
  },
  {
   "cell_type": "code",
   "execution_count": null,
   "id": "5f2fe9a5-5a9b-4926-b0d6-3aa110e9dbc1",
   "metadata": {},
   "outputs": [],
   "source": []
  },
  {
   "cell_type": "code",
   "execution_count": 23,
   "id": "15ae1e47-c866-45c0-b718-beaa4895d5aa",
   "metadata": {},
   "outputs": [
    {
     "name": "stdout",
     "output_type": "stream",
     "text": [
      "  country_code country_name  year      value\n",
      "0          ABW        Aruba  1960  11092.675\n",
      "1          ABW        Aruba  1961  11576.719\n",
      "2          ABW        Aruba  1962  12713.489\n",
      "3          ABW        Aruba  1963  12178.107\n",
      "4          ABW        Aruba  1964  11840.743\n",
      "5          ABW        Aruba  1965  10623.299\n"
     ]
    }
   ],
   "source": [
    "#df = pd.read_csv('./final/co2_country.csv')\n",
    "project_dir = os.getcwd()\n",
    "\n",
    "# Construct the full path to the CSV file\n",
    "file_path = os.path.join(project_dir, 'co2_country.csv')\n",
    "df = pd.read_csv(file_path)\n",
    "\n",
    "initial_size = df.shape[0]\n",
    "print(df.head(6))"
   ]
  },
  {
   "cell_type": "code",
   "execution_count": null,
   "id": "e8e8c614-ad9a-4b53-9444-c872d678a553",
   "metadata": {},
   "outputs": [],
   "source": [
    "#Steps \n",
    "#Check for null/missing values \n",
    "#average the country values \n",
    "#join the datasets \n",
    "#Perform analysis (linear regression) \n",
    "#Create a prediction model \n"
   ]
  },
  {
   "cell_type": "code",
   "execution_count": null,
   "id": "b2face95-725b-4803-96d6-94d5d355cb34",
   "metadata": {},
   "outputs": [],
   "source": []
  },
  {
   "cell_type": "code",
   "execution_count": null,
   "id": "1286d082-b14b-4e2e-86a9-c0ceb2cf2dae",
   "metadata": {},
   "outputs": [],
   "source": [
    "\n"
   ]
  },
  {
   "cell_type": "code",
   "execution_count": null,
   "id": "531eb355-38dc-4e72-a2bd-9f216a7ace79",
   "metadata": {},
   "outputs": [],
   "source": [
    "\n"
   ]
  },
  {
   "cell_type": "code",
   "execution_count": null,
   "id": "6b837301-2edb-4303-a695-6c7aa0cefdca",
   "metadata": {},
   "outputs": [],
   "source": []
  },
  {
   "cell_type": "code",
   "execution_count": null,
   "id": "2a58143d-bd20-4c68-bda4-30b6be54c9a2",
   "metadata": {},
   "outputs": [],
   "source": []
  },
  {
   "cell_type": "code",
   "execution_count": null,
   "id": "69173eec-091f-4a5d-9811-eb7275582dba",
   "metadata": {},
   "outputs": [],
   "source": []
  }
 ],
 "metadata": {
  "kernelspec": {
   "display_name": "Python 3 (ipykernel)",
   "language": "python",
   "name": "python3"
  },
  "language_info": {
   "codemirror_mode": {
    "name": "ipython",
    "version": 3
   },
   "file_extension": ".py",
   "mimetype": "text/x-python",
   "name": "python",
   "nbconvert_exporter": "python",
   "pygments_lexer": "ipython3",
   "version": "3.12.2"
  }
 },
 "nbformat": 4,
 "nbformat_minor": 5
}
