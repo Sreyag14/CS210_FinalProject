{
 "cells": [
  {
   "cell_type": "code",
   "execution_count": 2,
   "id": "46b77167-911c-48e2-9f1d-9fae4e4cfe25",
   "metadata": {},
   "outputs": [
    {
     "name": "stdout",
     "output_type": "stream",
     "text": [
      "/home/ssg145/final\n"
     ]
    }
   ],
   "source": [
    "import pandas as pd\n",
    "import numpy as np\n",
    "import sqlite3\n",
    "import os\n",
    "\n",
    "print(os.getcwd())"
   ]
  },
  {
   "cell_type": "markdown",
   "id": "44f37422-abab-4f22-aceb-52db49de4780",
   "metadata": {},
   "source": [
    "### Download Each Data Set"
   ]
  },
  {
   "cell_type": "markdown",
   "id": "04fbe000-78ec-4915-9171-ee14c0758bf7",
   "metadata": {},
   "source": [
    "We have 3 different data sets that we are using for the project.\n",
    "1. Coffee Quality Data\n",
    "- From the Coffee Quality Data we extracted the Country Name, No. of Bags, Harvest Year and Bag Weight.\n",
    "2. Meat and Dairy Production Data\n",
    "\n",
    "3. CO2 Emmisions"
   ]
  },
  {
   "cell_type": "code",
   "execution_count": 34,
   "id": "051d1343-c600-42a8-8ae8-d797e1640652",
   "metadata": {},
   "outputs": [
    {
     "name": "stdout",
     "output_type": "stream",
     "text": [
      "Dimensions before Cleaning: (207, 41)\n",
      "[('Colombia', 1, '35 kg', '2021 / 2022'), ('Taiwan', 1, '80 kg', '2021 / 2022'), ('Laos', 19, '25 kg', '2021 / 2022'), ('Costa Rica', 1, '22 kg', '2022'), ('Colombia', 2, '24 kg', '2022')]\n",
      "Dimensions after Cleaning: (207, 4)\n"
     ]
    }
   ],
   "source": [
    "project_dir = os.getcwd()\n",
    "\n",
    "# Construct the full path to the CSV file\n",
    "file_path = os.path.join(project_dir, 'coffee.csv')\n",
    "\n",
    "# Read the CSV file\n",
    "df = pd.read_csv(file_path)\n",
    "\n",
    "#CLEANING UP THE DATA \n",
    "dimensions = df.shape\n",
    "print(\"Dimensions before Cleaning:\", dimensions)\n",
    "\n",
    "desired_columns = ['Country of Origin', 'Number of Bags', 'Bag Weight','Harvest Year']\n",
    "df = pd.read_csv(file_path, usecols=desired_columns)\n",
    "\n",
    "db_name = \"new_database.db\"\n",
    "conn = sqlite3.connect(db_name)\n",
    "cursor = conn.cursor()\n",
    "\n",
    "table_name = \"new_table\"\n",
    "df.to_sql(table_name, conn, if_exists='replace', index = False)\n",
    "\n",
    "cursor.execute(f\"SELECT * FROM {table_name} LIMIT 5\")\n",
    "print(cursor.fetchall())\n",
    "\n",
    "dimensions = df.shape\n",
    "print(\"Dimensions after Cleaning:\",dimensions)\n",
    "\n",
    "#May want to drop all the columns except the country name, no. of bags, harvest year and bag weight."
   ]
  },
  {
   "cell_type": "code",
   "execution_count": 21,
   "id": "299a6d61-8e4f-4d44-8edf-e0065518f5ae",
   "metadata": {},
   "outputs": [
    {
     "name": "stdout",
     "output_type": "stream",
     "text": [
      "               Country  Year  Production amt\n",
      "0              Bahamas  1961          1260.7\n",
      "1               Brunei  1961          1289.8\n",
      "2                Qatar  1961          1769.2\n",
      "3        Faroe Islands  1961             0.0\n",
      "4               Tuvalu  1961            30.0\n",
      "5  Antigua and Barbuda  1961           395.0\n"
     ]
    }
   ],
   "source": [
    "project_dir = os.getcwd()\n",
    "\n",
    "# Construct the full path to the CSV file\n",
    "file_path = os.path.join(project_dir, 'meat.csv')\n",
    "df = pd.read_csv(file_path)\n",
    "#df = pd.read_csv('/home/ssg145/final/meat.csv')\n",
    "initial_size = df.shape[0]\n",
    "\n",
    "#print(df.head(6))\n",
    "\n",
    "#CLEANING UP DATA\n",
    "df = df.drop(columns=['Code'])\n",
    "#print(df.head(6))\n",
    "\n",
    "df = df.rename(columns={'Meat, total | 00001765 || Production | 005510 || tonnes': 'Production amt'})\n",
    "print(df.head(6))\n"
   ]
  },
  {
   "cell_type": "code",
   "execution_count": 47,
   "id": "15ae1e47-c866-45c0-b718-beaa4895d5aa",
   "metadata": {},
   "outputs": [
    {
     "name": "stdout",
     "output_type": "stream",
     "text": [
      "  country_name  year      value\n",
      "0        Aruba  1960  11092.675\n",
      "1        Aruba  1961  11576.719\n",
      "2        Aruba  1962  12713.489\n",
      "3        Aruba  1963  12178.107\n",
      "4        Aruba  1964  11840.743\n",
      "5        Aruba  1965  10623.299\n"
     ]
    }
   ],
   "source": [
    "#df = pd.read_csv('./final/co2_country.csv')\n",
    "project_dir = os.getcwd()\n",
    "\n",
    "# Construct the full path to the CSV file\n",
    "file_path = os.path.join(project_dir, 'co2_country.csv')\n",
    "df = pd.read_csv(file_path)\n",
    "\n",
    "\n",
    "#Clean the data (get rid of the country codes)\n",
    "df = df.iloc[:, 1:]\n",
    "\n",
    "initial_size = df.shape[0]\n",
    "print(df.head(6))"
   ]
  },
  {
   "cell_type": "code",
   "execution_count": 5,
   "id": "bd1c4446-5cba-472e-bc43-618e246a32bd",
   "metadata": {},
   "outputs": [
    {
     "name": "stdout",
     "output_type": "stream",
     "text": [
      "Dimensions before Cleaning: (13615, 4)\n",
      "        Entity Code  Year  Milk | 00001780 || Production | 005510 || tonnes\n",
      "0  Afghanistan  AFG  1961                                          574900.0\n",
      "1  Afghanistan  AFG  1962                                          576700.0\n",
      "2  Afghanistan  AFG  1963                                          646700.0\n",
      "3  Afghanistan  AFG  1964                                          659900.0\n",
      "4  Afghanistan  AFG  1965                                          720900.0\n",
      "5  Afghanistan  AFG  1966                                          750500.0\n",
      "       Country  Year  Milk amt\n",
      "0  Afghanistan  1961  574900.0\n",
      "1  Afghanistan  1962  576700.0\n",
      "2  Afghanistan  1963  646700.0\n",
      "3  Afghanistan  1964  659900.0\n",
      "4  Afghanistan  1965  720900.0\n",
      "5  Afghanistan  1966  750500.0\n",
      "Dimensions after Cleaning: (13615, 3)\n"
     ]
    }
   ],
   "source": [
    "project_dir = os.getcwd()\n",
    "\n",
    "# Construct the full path to the CSV file\n",
    "file_path = os.path.join(project_dir, 'milk.csv')\n",
    "df = pd.read_csv(file_path)\n",
    "#df = pd.read_csv('/home/ssg145/final/meat.csv')\n",
    "initial_size = df.shape[0]\n",
    "\n",
    "#print(df.head(6))\n",
    "\n",
    "#CLEANING UP DATA\n",
    "dimensions = df.shape\n",
    "print(\"Dimensions before Cleaning:\", dimensions)\n",
    "print(df.head(6))\n",
    "df = df.drop(columns=['Code'])\n",
    "\n",
    "df = df.rename(columns={'Milk | 00001780 || Production | 005510 || tonnes'\n",
    "      : 'Milk amt'})\n",
    "df = df.rename(columns={'Entity'\n",
    "      : 'Country'})\n",
    "\n",
    "\n",
    "print(df.head(6))\n"
   ]
  },
  {
   "cell_type": "code",
   "execution_count": 23,
   "id": "e8e8c614-ad9a-4b53-9444-c872d678a553",
   "metadata": {},
   "outputs": [],
   "source": [
    "#Steps \n",
    "#Check for null/missing values \n",
    "#average the country values \n",
    "#join the datasets \n",
    "#Perform analysis (linear regression) \n",
    "#Create a prediction model \n"
   ]
  },
  {
   "cell_type": "code",
   "execution_count": null,
   "id": "470d92b7-554d-498f-9a83-eee7b4a4a4e0",
   "metadata": {},
   "outputs": [],
   "source": []
  }
 ],
 "metadata": {
  "kernelspec": {
   "display_name": "Python 3 (ipykernel)",
   "language": "python",
   "name": "python3"
  },
  "language_info": {
   "codemirror_mode": {
    "name": "ipython",
    "version": 3
   },
   "file_extension": ".py",
   "mimetype": "text/x-python",
   "name": "python",
   "nbconvert_exporter": "python",
   "pygments_lexer": "ipython3",
   "version": "3.12.2"
  }
 },
 "nbformat": 4,
 "nbformat_minor": 5
}
