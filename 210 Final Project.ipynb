{
 "cells": [
  {
   "cell_type": "markdown",
   "id": "45cb2615-ed5c-4e7d-b3b1-7479ae0bc1f8",
   "metadata": {},
   "source": [
    "# Project: Relationship Between Consumerism, Sustainability, and Global Warming\n",
    "### Partners: Sreya Gopalam ssg145, Lana Huang lh711, Sharon Chen sc2351"
   ]
  },
  {
   "cell_type": "markdown",
   "id": "61d48ee7-d69e-4a14-a5db-b28313572ba4",
   "metadata": {},
   "source": [
    "## Contents:\n",
    "1. Download Data\n",
    "2. Clean Data (Missing/Null Values)\n",
    "3. Create Prediction Model\n",
    "5. Analyze & Evaluate"
   ]
  },
  {
   "cell_type": "code",
   "execution_count": 2,
   "id": "46b77167-911c-48e2-9f1d-9fae4e4cfe25",
   "metadata": {},
   "outputs": [
    {
     "name": "stdout",
     "output_type": "stream",
     "text": [
      "/home/lh711/final\n"
     ]
    }
   ],
   "source": [
    "#Necessary libraries needed for the project\n",
    "\n",
    "import pandas as pd\n",
    "from sklearn.model_selection import train_test_split\n",
    "from sklearn.linear_model import LinearRegression\n",
    "from sklearn.metrics import mean_squared_error, r2_score, mean_absolute_error\n",
    "from sklearn.preprocessing import MinMaxScaler, StandardScaler\n",
    "import matplotlib.pyplot as plt\n",
    "import matplotlib.patches as mpatches \n",
    "import numpy as np\n",
    "import sqlite3\n",
    "import os\n",
    "import re\n",
    "\n",
    "print(os.getcwd())"
   ]
  },
  {
   "cell_type": "markdown",
   "id": "44f37422-abab-4f22-aceb-52db49de4780",
   "metadata": {},
   "source": [
    "# Download & Clean Each Data Set"
   ]
  },
  {
   "cell_type": "markdown",
   "id": "04fbe000-78ec-4915-9171-ee14c0758bf7",
   "metadata": {},
   "source": [
    "We have 4 different data sets that we are using for the project.\n",
    "1. Coffee Quality Data\n",
    "- From the Coffee Quality Data we extracted the Country Name, No. of Bags, Harvest Year and Bag Weight.\n",
    "2. Meat Production Data\n",
    "- From the Meat Dataset we focused on analyzing Country, Year, and Production in tonns\n",
    "3. CO2 Emmisions\n",
    "- From the CO2 Emmisions dataset we focused on the Country, Year, and the CO2 Emissions in kiloton (kt)\n",
    "4. Milk Production Dataset\n",
    "- From the Milk Production Dataset we looked at the Country, Year, and the Production in tonnes"
   ]
  },
  {
   "cell_type": "markdown",
   "id": "db562986-b1d2-40f0-a782-59718e43572a",
   "metadata": {},
   "source": [
    "## Coffee Quality Dataset"
   ]
  },
  {
   "cell_type": "code",
   "execution_count": 3,
   "id": "051d1343-c600-42a8-8ae8-d797e1640652",
   "metadata": {},
   "outputs": [
    {
     "name": "stdout",
     "output_type": "stream",
     "text": [
      "Dimensions before Cleaning: (207, 42)\n",
      "   Unnamed: 0  ID     Country                 Farm Name  \\\n",
      "0           0   0    Colombia          Finca El Paraiso   \n",
      "1           1   1      Taiwan  Royal Bean Geisha Estate   \n",
      "2           2   2        Laos        OKLAO coffee farms   \n",
      "3           3   3  Costa Rica                 La Cumbre   \n",
      "4           4   4    Colombia           Finca Santuario   \n",
      "5           5   5   Guatemala                 La Colina   \n",
      "\n",
      "                                Lot Number                           Mill  \\\n",
      "0                               CQU2022015               Finca El Paraiso   \n",
      "1  The 2022 Pacific Rim Coffee Summit,T037       Royal Bean Geisha Estate   \n",
      "2  The 2022 Pacific Rim Coffee Summit,LA01  oklao coffee processing plant   \n",
      "3                               CQU2022017        La Montana Tarrazu MIll   \n",
      "4                               CQU2023002                Finca Santuario   \n",
      "5  The 2022 Pacific Rim Coffee Summit,GT02                  Dinámica Café   \n",
      "\n",
      "  ICO Number                   Company   Altitude                Region  ...  \\\n",
      "0        NaN      Coffee Quality Union  1700-1930        Piendamo,Cauca  ...   \n",
      "1        NaN  Taiwan Coffee Laboratory       1200                Chiayi  ...   \n",
      "2        NaN  Taiwan Coffee Laboratory       1300  Laos Borofen Plateau  ...   \n",
      "3        NaN      Coffee Quality Union       1900    Los Santos,Tarrazu  ...   \n",
      "4        NaN      Coffee Quality Union  1850-2100         Popayan,Cauca  ...   \n",
      "5        NaN  Taiwan Coffee Laboratory       1668         Chimaltenango  ...   \n",
      "\n",
      "  Moisture Percentage  Category One Defects  Quakers         Color  \\\n",
      "0                11.8                     0        0         green   \n",
      "1                10.5                     0        0    blue-green   \n",
      "2                10.4                     0        0     yellowish   \n",
      "3                11.8                     0        0         green   \n",
      "4                11.6                     0        2  yellow-green   \n",
      "5                10.7                     0        0         green   \n",
      "\n",
      "  Category Two Defects            Expiration  \\\n",
      "0                    3  September 21st, 2023   \n",
      "1                    0   November 15th, 2023   \n",
      "2                    2   November 15th, 2023   \n",
      "3                    0  September 21st, 2023   \n",
      "4                    2       March 5th, 2024   \n",
      "5                    2   November 15th, 2023   \n",
      "\n",
      "                 Certification Body  \\\n",
      "0             Japan Coffee Exchange   \n",
      "1  Taiwan Coffee Laboratory 台灣咖啡研究室   \n",
      "2  Taiwan Coffee Laboratory 台灣咖啡研究室   \n",
      "3             Japan Coffee Exchange   \n",
      "4             Japan Coffee Exchange   \n",
      "5  Taiwan Coffee Laboratory 台灣咖啡研究室   \n",
      "\n",
      "                               Certification Address  \\\n",
      "0  〒413-0002 静岡県熱海市伊豆山１１７３−５８ 1173-58 Izusan, Ata...   \n",
      "1  QAHWAH CO., LTD 4F, No. 225, Sec. 3, Beixin Rd...   \n",
      "2  QAHWAH CO., LTD 4F, No. 225, Sec. 3, Beixin Rd...   \n",
      "3  〒413-0002 静岡県熱海市伊豆山１１７３−５８ 1173-58 Izusan, Ata...   \n",
      "4  〒413-0002 静岡県熱海市伊豆山１１７３−５８ 1173-58 Izusan, Ata...   \n",
      "5  QAHWAH CO., LTD 4F, No. 225, Sec. 3, Beixin Rd...   \n",
      "\n",
      "                     Certification Contact Coffee amt  \n",
      "0  松澤　宏樹　Koju Matsuzawa - +81(0)9085642901       35.0  \n",
      "1     Lin, Jen-An Neil 林仁安 - 886-289116612       80.0  \n",
      "2     Lin, Jen-An Neil 林仁安 - 886-289116612      475.0  \n",
      "3  松澤　宏樹　Koju Matsuzawa - +81(0)9085642901       22.0  \n",
      "4  松澤　宏樹　Koju Matsuzawa - +81(0)9085642901       48.0  \n",
      "5     Lin, Jen-An Neil 林仁安 - 886-289116612      150.0  \n",
      "\n",
      "[6 rows x 42 columns]\n",
      "\n",
      "Average production of coffee based on country:\n",
      "                          Country  Number of Bags   Bag Weight    Coffee amt\n",
      "0                         Brazil      566.900000    49.000000  3.203250e+04\n",
      "1                       Colombia      161.263158    35.789474  8.500632e+03\n",
      "2                     Costa Rica      180.250000    43.250000  8.876750e+03\n",
      "3                    El Salvador      214.000000    23.571429  7.940143e+03\n",
      "4                       Ethiopia      240.181818  3529.545455  1.126351e+06\n",
      "5                      Guatemala      306.285714    37.428571  1.168429e+04\n",
      "6                       Honduras      221.846154    51.692308  1.311462e+04\n",
      "7                      Indonesia      213.666667    60.000000  1.282000e+04\n",
      "8                          Kenya      156.500000    32.500000  9.032500e+03\n",
      "9                           Laos      129.333333    48.333333  7.538333e+03\n",
      "10                    Madagascar        5.000000    60.000000  3.000000e+02\n",
      "11                        Mexico      195.750000    45.750000  7.521750e+03\n",
      "12                       Myanmar      100.000000    30.000000  3.000000e+03\n",
      "13                     Nicaragua      227.714286    56.571429  1.337571e+04\n",
      "14                        Panama      200.000000    30.000000  6.000000e+03\n",
      "15                          Peru      207.000000    53.000000  1.423500e+04\n",
      "16                        Taiwan        8.000000    50.901639  7.077049e+01\n",
      "17  Tanzania, United Republic Of      330.000000    50.000000  1.570000e+04\n",
      "18                      Thailand        2.750000     8.750000  3.591667e+01\n",
      "19                        Uganda      263.333333    60.000000  1.580000e+04\n",
      "20        United States (Hawaii)       20.200000    17.000000  3.020000e+02\n",
      "21                       Vietnam       25.750000    20.250000  6.227500e+02\n",
      "\n",
      "Dimensions after Cleaning: (207, 4)\n",
      "      Country  Number of Bags  Bag Weight  Coffee amt\n",
      "0    Colombia               1        35.0        35.0\n",
      "1      Taiwan               1        80.0        80.0\n",
      "2        Laos              19        25.0       475.0\n",
      "3  Costa Rica               1        22.0        22.0\n",
      "4    Colombia               2        24.0        48.0\n",
      "5   Guatemala               5        30.0       150.0\n"
     ]
    }
   ],
   "source": [
    "project_dir = os.getcwd()\n",
    "\n",
    "# Construct the full path to the CSV file\n",
    "file_path = os.path.join(project_dir, 'coffee.csv')\n",
    "\n",
    "# Read the CSV file\n",
    "coffee_df = pd.read_csv(file_path)\n",
    "\n",
    "#Rename the country column\n",
    "coffee_df = coffee_df.rename(columns={'Country of Origin': 'Country'})\n",
    "\n",
    "#coffee_df['Bag Weight'] = coffee_df['Bag Weight'].str.replace('kg', '').astype(float)\n",
    "coffee_df['Bag Weight'] = coffee_df['Bag Weight'].str.replace(r'\\s*[Kk][Gg]', '', regex=True).astype(float)\n",
    "coffee_df['Coffee amt'] = coffee_df['Bag Weight'] * coffee_df['Number of Bags']\n",
    "\n",
    "#CLEANING UP THE DATA (getting rid of unneccessary info ie. columns)\n",
    "dimensions = coffee_df.shape\n",
    "print(\"Dimensions before Cleaning:\", dimensions)\n",
    "print(coffee_df.head(6))\n",
    "\n",
    "\n",
    "#coffee_df = coffee_df[[\"Country\", \"Number of Bags\", \"Bag Weight\", \"Harvest Year\", \"Coffee amt\"]]#Taking only the columns we need\n",
    "#Have to get rid of year column since its type is an object unless we strip it \n",
    "coffee_df = coffee_df[[\"Country\", \"Number of Bags\", \"Bag Weight\", \"Coffee amt\"]]\n",
    "\n",
    "#Finding the average of coffee amt \n",
    "coffee_df_avg = coffee_df.groupby('Country', as_index=False).mean()\n",
    "print(\"\\nAverage production of coffee based on country:\\n\",coffee_df_avg)\n",
    "\n",
    "dimensions = coffee_df.shape\n",
    "print(\"\\nDimensions after Cleaning:\",dimensions)\n",
    "print(coffee_df.head(6))\n",
    "coffee_df.to_csv('output.csv', index=False)\n",
    "\n",
    "#May want to drop all the columns except the country name, no. of bags, harvest year and bag weight."
   ]
  },
  {
   "cell_type": "markdown",
   "id": "a152328b-dca7-4fde-b84c-4109ab0a1657",
   "metadata": {},
   "source": [
    "### Null/Missing Values"
   ]
  },
  {
   "cell_type": "code",
   "execution_count": 4,
   "id": "7226b5ac-e343-455b-a049-6bf13e7e010a",
   "metadata": {},
   "outputs": [
    {
     "name": "stdout",
     "output_type": "stream",
     "text": [
      "Amount of Missing Values for Column 1: 0\n",
      "Amount of Missing Values for Column 2: 0\n",
      "Amount of Missing Values for Column 3: 0\n"
     ]
    }
   ],
   "source": [
    "#Finding Missing Values\n",
    "#Column 1\n",
    "missing_countries = coffee_df[\"Country\"].isnull().sum()\n",
    "print(\"Amount of Missing Values for Column 1:\", missing_countries)\n",
    "\n",
    "#Column 2\n",
    "missing_bags = coffee_df[\"Number of Bags\"].isnull().sum()\n",
    "print(\"Amount of Missing Values for Column 2:\", missing_bags)\n",
    "\n",
    "#Column 3\n",
    "missing_weight = coffee_df[\"Coffee amt\"].isnull().sum()\n",
    "print(\"Amount of Missing Values for Column 3:\", missing_weight)\n",
    "\n",
    "#Column 4\n",
    "#missing_year = coffee_df[\"Harvest Year\"].isnull().sum()\n",
    "#print(\"Amount of Missing Values for Column 4:\", missing_year)\n",
    "\n",
    "#Finding Null Values"
   ]
  },
  {
   "cell_type": "markdown",
   "id": "f7462579-fe7e-4910-88e6-aa117f102239",
   "metadata": {},
   "source": [
    "## Meat Dataset"
   ]
  },
  {
   "cell_type": "code",
   "execution_count": 5,
   "id": "299a6d61-8e4f-4d44-8edf-e0065518f5ae",
   "metadata": {},
   "outputs": [
    {
     "name": "stdout",
     "output_type": "stream",
     "text": [
      "Dimensions before Cleaning: (14382, 4)\n",
      "               Country Code  Year  \\\n",
      "0              Bahamas  BHS  1961   \n",
      "1               Brunei  BRN  1961   \n",
      "2                Qatar  QAT  1961   \n",
      "3        Faroe Islands  FRO  1961   \n",
      "4               Tuvalu  TUV  1961   \n",
      "5  Antigua and Barbuda  ATG  1961   \n",
      "\n",
      "   Meat, total | 00001765 || Production | 005510 || tonnes  \n",
      "0                                             1260.7        \n",
      "1                                             1289.8        \n",
      "2                                             1769.2        \n",
      "3                                                0.0        \n",
      "4                                               30.0        \n",
      "5                                              395.0        \n",
      "\n",
      "Average production of meat based on country:\n",
      "           Country    Year  Production amt\n",
      "0     Afghanistan  1991.5    2.521045e+05\n",
      "1          Africa  1991.5    1.031934e+07\n",
      "2    Africa (FAO)  1991.5    1.076151e+07\n",
      "3         Albania  1991.5    5.788725e+04\n",
      "4         Algeria  1991.5    4.132078e+05\n",
      "..            ...     ...             ...\n",
      "249         World  1991.5    1.985639e+08\n",
      "250         Yemen  1991.5    1.721035e+05\n",
      "251    Yugoslavia  1976.0    1.224434e+06\n",
      "252        Zambia  1991.5    1.416053e+05\n",
      "253      Zimbabwe  1991.5    4.231874e+05\n",
      "\n",
      "[254 rows x 3 columns]\n",
      "\n",
      "Dimensions after Cleaning: (14382, 3)\n",
      "               Country  Year  Production amt\n",
      "0              Bahamas  1961          1260.7\n",
      "1               Brunei  1961          1289.8\n",
      "2                Qatar  1961          1769.2\n",
      "3        Faroe Islands  1961             0.0\n",
      "4               Tuvalu  1961            30.0\n",
      "5  Antigua and Barbuda  1961           395.0\n"
     ]
    }
   ],
   "source": [
    "project_dir = os.getcwd()\n",
    "\n",
    "# Construct the full path to the CSV file\n",
    "file_path = os.path.join(project_dir, 'meat.csv')\n",
    "meat_df = pd.read_csv(file_path)\n",
    "#df = pd.read_csv('/home/ssg145/final/meat.csv')\n",
    "initial_size = meat_df.shape[0]\n",
    "\n",
    "dimensions = meat_df.shape\n",
    "print(\"Dimensions before Cleaning:\", dimensions)\n",
    "print(meat_df.head(6))\n",
    "\n",
    "#CLEANING UP DATA\n",
    "meat_df = meat_df.drop(columns=['Code'])\n",
    "#print(df.head(6))\n",
    "\n",
    "meat_df = meat_df.rename(columns={'Meat, total | 00001765 || Production | 005510 || tonnes': 'Production amt'})\n",
    "\n",
    "#Averaging the data\n",
    "meat_df_avg = meat_df.groupby('Country', as_index=False).mean()\n",
    "print(\"\\nAverage production of meat based on country:\\n\", meat_df_avg)\n",
    "\n",
    "dimensions = meat_df.shape\n",
    "print(\"\\nDimensions after Cleaning:\", dimensions)\n",
    "print(meat_df.head(6))\n"
   ]
  },
  {
   "cell_type": "markdown",
   "id": "0ef0a8a8-aec5-4ed7-a649-e1040dc2fcad",
   "metadata": {},
   "source": [
    "### Null/Missing Values"
   ]
  },
  {
   "cell_type": "code",
   "execution_count": 6,
   "id": "4e3f46e0-297e-4277-abdc-4ef4f6306871",
   "metadata": {},
   "outputs": [
    {
     "name": "stdout",
     "output_type": "stream",
     "text": [
      "Amount of Missing Values for Column 1: 0\n",
      "Amount of Missing Values for Column 2: 0\n",
      "Amount of Missing Values for Column 3: 0\n",
      "(14382, 3)\n",
      "(12429, 3)\n"
     ]
    }
   ],
   "source": [
    "#Finding Missing Values\n",
    "#Column 1\n",
    "missing_countries = meat_df[\"Country\"].isnull().sum()\n",
    "print(\"Amount of Missing Values for Column 1:\", missing_countries)\n",
    "\n",
    "#Column 2\n",
    "missing_year = meat_df[\"Year\"].isnull().sum()\n",
    "print(\"Amount of Missing Values for Column 2:\", missing_year)\n",
    "\n",
    "#Column 3\n",
    "missing_production = meat_df[\"Production amt\"].isnull().sum()\n",
    "print(\"Amount of Missing Values for Column 3:\", missing_production)\n",
    "\n",
    "#Finding Null Values: there are country values that are continents or low income/high income countries\n",
    "print(meat_df.shape)\n",
    "bad_values = [\"Asia\", \"North America\", \"Africa\", \"South America\", \"Europe\", \"Antartica\", \"World\", \"Lower-middle-income countries\", \"Upper-middle-income countries\", \"High-income countries\", \"Low-income countries\"]\n",
    "meat_df = meat_df[~meat_df[\"Country\"].str.contains(\"|\".join(bad_values), case = False, na = False)]\n",
    "print(meat_df.shape)"
   ]
  },
  {
   "cell_type": "markdown",
   "id": "a3965f73-2bbd-4527-aba1-74b9f787bd49",
   "metadata": {},
   "source": [
    "## CO2 Emmissions Dataset"
   ]
  },
  {
   "cell_type": "code",
   "execution_count": 7,
   "id": "15ae1e47-c866-45c0-b718-beaa4895d5aa",
   "metadata": {},
   "outputs": [
    {
     "name": "stdout",
     "output_type": "stream",
     "text": [
      "Dimensions before Cleaning: (13953, 4)\n",
      "  country_code country_name  year      value\n",
      "0          ABW        Aruba  1960  11092.675\n",
      "1          ABW        Aruba  1961  11576.719\n",
      "2          ABW        Aruba  1962  12713.489\n",
      "3          ABW        Aruba  1963  12178.107\n",
      "4          ABW        Aruba  1964  11840.743\n",
      "5          ABW        Aruba  1965  10623.299\n",
      "\n",
      "Average production of co2 based on country:\n",
      "                          Country    year     co2_value\n",
      "0                    Afghanistan  1989.5  2.505611e+03\n",
      "1    Africa Eastern and Southern  1989.5  3.463568e+05\n",
      "2     Africa Western and Central  1989.5  1.075567e+05\n",
      "3                        Albania  1989.5  4.413947e+03\n",
      "4                        Algeria  1989.5  7.031805e+04\n",
      "..                           ...     ...           ...\n",
      "251           West Bank and Gaza  2003.0  1.754320e+03\n",
      "252                        World  1989.5  2.195928e+07\n",
      "253                  Yemen, Rep.  1989.5  8.619050e+03\n",
      "254                       Zambia  1991.5  3.369701e+03\n",
      "255                     Zimbabwe  1991.5  1.116555e+04\n",
      "\n",
      "[256 rows x 3 columns]\n",
      "\n",
      "Dimensions before Cleaning: (13953, 3)\n",
      "  Country  year  co2_value\n",
      "0   Aruba  1960  11092.675\n",
      "1   Aruba  1961  11576.719\n",
      "2   Aruba  1962  12713.489\n",
      "3   Aruba  1963  12178.107\n",
      "4   Aruba  1964  11840.743\n",
      "5   Aruba  1965  10623.299\n"
     ]
    }
   ],
   "source": [
    "#df = pd.read_csv('./final/co2_country.csv')\n",
    "project_dir = os.getcwd()\n",
    "\n",
    "# Construct the full path to the CSV file\n",
    "file_path = os.path.join(project_dir, 'co2_country.csv')\n",
    "df_co2 = pd.read_csv(file_path)\n",
    "\n",
    "dimensions = df_co2.shape\n",
    "print(\"Dimensions before Cleaning:\", dimensions)\n",
    "print(df_co2.head(6))\n",
    "\n",
    "#Rename the country column \n",
    "df_co2 = df_co2.rename(columns={'country_name': 'Country'})\n",
    "df_co2 = df_co2.rename(columns={'value': 'co2_value'})\n",
    "\n",
    "#Clean the data (get rid of the country codes)\n",
    "df_co2 = df_co2.iloc[:, 1:]\n",
    "\n",
    "#Averaging the country\n",
    "co2_df_avg = df_co2.groupby('Country', as_index=False).mean()\n",
    "print(\"\\nAverage production of co2 based on country:\\n\",co2_df_avg)\n",
    "\n",
    "dimensions = df_co2.shape\n",
    "print(\"\\nDimensions before Cleaning:\", dimensions)\n",
    "print(df_co2.head(6))"
   ]
  },
  {
   "cell_type": "markdown",
   "id": "adc9fc29-5a67-43d9-8b8e-077848442276",
   "metadata": {},
   "source": [
    "### Null/Missing Values"
   ]
  },
  {
   "cell_type": "code",
   "execution_count": 8,
   "id": "7b763684-b698-45ed-9bbe-c18bc88c515c",
   "metadata": {},
   "outputs": [
    {
     "name": "stdout",
     "output_type": "stream",
     "text": [
      "Amount of Missing Values for Column 1: 0\n",
      "Amount of Missing Values for Column 2: 0\n",
      "Amount of Missing Values for Column 3: 0\n"
     ]
    }
   ],
   "source": [
    "#Finding Missing Values\n",
    "#Column 1\n",
    "missing_countries = df_co2[\"Country\"].isnull().sum()\n",
    "print(\"Amount of Missing Values for Column 1:\", missing_countries)\n",
    "\n",
    "#Column 2\n",
    "missing_year = df_co2[\"year\"].isnull().sum()\n",
    "print(\"Amount of Missing Values for Column 2:\", missing_year)\n",
    "\n",
    "#Column 3\n",
    "missing_value = df_co2[\"co2_value\"].isnull().sum()\n",
    "print(\"Amount of Missing Values for Column 3:\", missing_value)\n"
   ]
  },
  {
   "cell_type": "markdown",
   "id": "983363b5-1bfb-4f0c-b168-658be07006cb",
   "metadata": {},
   "source": [
    "## Milk Production Dataset"
   ]
  },
  {
   "cell_type": "code",
   "execution_count": 9,
   "id": "bd1c4446-5cba-472e-bc43-618e246a32bd",
   "metadata": {
    "scrolled": true
   },
   "outputs": [
    {
     "name": "stdout",
     "output_type": "stream",
     "text": [
      "Dimensions before Cleaning: (13615, 4)\n",
      "       Country Code  Year  Milk amt\n",
      "0  Afghanistan  AFG  1961  574900.0\n",
      "1  Afghanistan  AFG  1962  576700.0\n",
      "2  Afghanistan  AFG  1963  646700.0\n",
      "3  Afghanistan  AFG  1964  659900.0\n",
      "4  Afghanistan  AFG  1965  720900.0\n",
      "5  Afghanistan  AFG  1966  750500.0\n",
      "\n",
      "Average production of milk based on country:\n",
      "           Country    Year      Milk amt\n",
      "0     Afghanistan  1991.5  1.265143e+06\n",
      "1          Africa  1991.5  2.433064e+07\n",
      "2    Africa (FAO)  1991.5  2.721962e+07\n",
      "3         Albania  1991.5  6.674705e+05\n",
      "4         Algeria  1991.5  1.616004e+06\n",
      "..            ...     ...           ...\n",
      "237         World  1991.5  5.686591e+08\n",
      "238         Yemen  1991.5  2.171429e+05\n",
      "239    Yugoslavia  1976.0  3.730219e+06\n",
      "240        Zambia  1991.5  2.253068e+05\n",
      "241      Zimbabwe  1991.5  3.951674e+05\n",
      "\n",
      "[242 rows x 3 columns]\n",
      "\n",
      "Dimensions after Cleaning: (13615, 3)\n",
      "       Country  Year  Milk amt\n",
      "0  Afghanistan  1961  574900.0\n",
      "1  Afghanistan  1962  576700.0\n",
      "2  Afghanistan  1963  646700.0\n",
      "3  Afghanistan  1964  659900.0\n",
      "4  Afghanistan  1965  720900.0\n",
      "5  Afghanistan  1966  750500.0\n"
     ]
    }
   ],
   "source": [
    "project_dir = os.getcwd()\n",
    "\n",
    "# Construct the full path to the CSV file\n",
    "file_path = os.path.join(project_dir, 'milk.csv')\n",
    "milk_df = pd.read_csv(file_path)\n",
    "#df = pd.read_csv('/home/ssg145/final/meat.csv')\n",
    "initial_size = milk_df.shape[0]\n",
    "\n",
    "#print(df.head(6))\n",
    "\n",
    "#Rename the country column\n",
    "milk_df = milk_df.rename(columns={'Milk | 00001780 || Production | 005510 || tonnes': 'Milk amt'})\n",
    "milk_df = milk_df.rename(columns={'Entity': 'Country'})\n",
    "\n",
    "#CLEANING UP DATA\n",
    "dimensions = milk_df.shape\n",
    "print(\"Dimensions before Cleaning:\", dimensions)\n",
    "print(milk_df.head(6))\n",
    "milk_df = milk_df.drop(columns=['Code'])\n",
    "\n",
    "#Averaging the values\n",
    "milk_df_avg = milk_df.groupby('Country', as_index=False).mean()\n",
    "print(\"\\nAverage production of milk based on country:\\n\",milk_df_avg)\n",
    "\n",
    "dimensions = milk_df.shape\n",
    "print(\"\\nDimensions after Cleaning:\", dimensions)\n",
    "print(milk_df.head(6))\n"
   ]
  },
  {
   "cell_type": "markdown",
   "id": "841f51a3-d2cf-4bb9-bf43-362cc716b2f6",
   "metadata": {},
   "source": [
    "### Null/Missing Values"
   ]
  },
  {
   "cell_type": "code",
   "execution_count": 10,
   "id": "84d096de-1c4c-46ae-a0e8-f6958f0ba219",
   "metadata": {},
   "outputs": [
    {
     "name": "stdout",
     "output_type": "stream",
     "text": [
      "Amount of Missing Values for Column 1: 0\n",
      "Amount of Missing Values for Column 2: 0\n",
      "Amount of Missing Values for Column 3: 0\n"
     ]
    }
   ],
   "source": [
    "#Finding Missing Values\n",
    "#Column 1\n",
    "missing_countries = milk_df[\"Country\"].isnull().sum()\n",
    "print(\"Amount of Missing Values for Column 1:\", missing_countries)\n",
    "\n",
    "#Column 2\n",
    "missing_year = milk_df[\"Year\"].isnull().sum()\n",
    "print(\"Amount of Missing Values for Column 2:\", missing_year)\n",
    "\n",
    "#Column 3\n",
    "missing_value = milk_df[\"Milk amt\"].isnull().sum()\n",
    "print(\"Amount of Missing Values for Column 3:\", missing_value)\n"
   ]
  },
  {
   "cell_type": "markdown",
   "id": "6c3696a7-dd42-4c72-bffe-169e24190ba8",
   "metadata": {},
   "source": [
    "# SQL Data Transformation"
   ]
  },
  {
   "cell_type": "markdown",
   "id": "77ae76cf-43e7-499d-8bf5-aa2dcf5fd715",
   "metadata": {},
   "source": [
    "In order for us to properly analyze our data we need to properly load our data into SQL Databases. In this section we convert our dataframes into SQL and then print out the schema and the tables in order show that we have properly converted the data. Then we use a SQL query in order to join our tables based on the Country column."
   ]
  },
  {
   "cell_type": "code",
   "execution_count": 11,
   "id": "bbe69a38-cb80-4a31-bd36-e41a1aca534f",
   "metadata": {},
   "outputs": [
    {
     "name": "stdout",
     "output_type": "stream",
     "text": [
      "      Country  Number of Bags  Bag Weight  Coffee amt\n",
      "0    Colombia               1        35.0        35.0\n",
      "1      Taiwan               1        80.0        80.0\n",
      "2        Laos              19        25.0       475.0\n",
      "3  Costa Rica               1        22.0        22.0\n",
      "4    Colombia               2        24.0        48.0\n",
      "5   Guatemala               5        30.0       150.0\n",
      "Schema of table1:\n",
      "   cid            name  type  notnull dflt_value  pk\n",
      "0    0         Country  TEXT        0       None   0\n",
      "1    1  Number of Bags  REAL        0       None   0\n",
      "2    2      Bag Weight  REAL        0       None   0\n",
      "3    3      Coffee amt  REAL        0       None   0\n",
      "\n",
      "Schema of table2:\n",
      "   cid            name  type  notnull dflt_value  pk\n",
      "0    0         Country  TEXT        0       None   0\n",
      "1    1            Year  REAL        0       None   0\n",
      "2    2  Production amt  REAL        0       None   0\n",
      "\n",
      "Schema of table3:\n",
      "   cid      name  type  notnull dflt_value  pk\n",
      "0    0   Country  TEXT        0       None   0\n",
      "1    1      Year  REAL        0       None   0\n",
      "2    2  Milk amt  REAL        0       None   0\n",
      "\n",
      "Schema of table4:\n",
      "   cid       name  type  notnull dflt_value  pk\n",
      "0    0    Country  TEXT        0       None   0\n",
      "1    1       year  REAL        0       None   0\n",
      "2    2  co2_value  REAL        0       None   0\n",
      "                         Country  Number of Bags   Bag Weight    Coffee amt\n",
      "0                         Brazil      566.900000    49.000000  3.203250e+04\n",
      "1                       Colombia      161.263158    35.789474  8.500632e+03\n",
      "2                     Costa Rica      180.250000    43.250000  8.876750e+03\n",
      "3                    El Salvador      214.000000    23.571429  7.940143e+03\n",
      "4                       Ethiopia      240.181818  3529.545455  1.126351e+06\n",
      "5                      Guatemala      306.285714    37.428571  1.168429e+04\n",
      "6                       Honduras      221.846154    51.692308  1.311462e+04\n",
      "7                      Indonesia      213.666667    60.000000  1.282000e+04\n",
      "8                          Kenya      156.500000    32.500000  9.032500e+03\n",
      "9                           Laos      129.333333    48.333333  7.538333e+03\n",
      "10                    Madagascar        5.000000    60.000000  3.000000e+02\n",
      "11                        Mexico      195.750000    45.750000  7.521750e+03\n",
      "12                       Myanmar      100.000000    30.000000  3.000000e+03\n",
      "13                     Nicaragua      227.714286    56.571429  1.337571e+04\n",
      "14                        Panama      200.000000    30.000000  6.000000e+03\n",
      "15                          Peru      207.000000    53.000000  1.423500e+04\n",
      "16                        Taiwan        8.000000    50.901639  7.077049e+01\n",
      "17  Tanzania, United Republic Of      330.000000    50.000000  1.570000e+04\n",
      "18                      Thailand        2.750000     8.750000  3.591667e+01\n",
      "19                        Uganda      263.333333    60.000000  1.580000e+04\n",
      "20        United States (Hawaii)       20.200000    17.000000  3.020000e+02\n",
      "21                       Vietnam       25.750000    20.250000  6.227500e+02\n"
     ]
    }
   ],
   "source": [
    "#df1 = pd.DataFrame(data1)\n",
    "#df2 = pd.DataFrame(data2)\n",
    "\n",
    "# Create SQLite database in memory\n",
    "conn = sqlite3.connect(':memory:')\n",
    "\n",
    "# Write DataFrames to SQLite tables\n",
    "#coffee_df.to_sql('table1', conn, index=False, if_exists='replace')\n",
    "#meat_df.to_sql('table2', conn, index=False, if_exists='replace')\n",
    "#milk_df.to_sql('table3', conn, index=False, if_exists='replace')\n",
    "#df_co2.to_sql('table4', conn, index=False, if_exists='replace')\n",
    "\n",
    "coffee_df_avg.to_sql('table1', conn, index=False, if_exists='replace')\n",
    "meat_df_avg.to_sql('table2', conn, index=False, if_exists='replace')\n",
    "milk_df_avg.to_sql('table3', conn, index=False, if_exists='replace')\n",
    "co2_df_avg.to_sql('table4', conn, index=False, if_exists='replace')\n",
    "\n",
    "\n",
    "print(coffee_df.head(6))\n",
    "print(\"Schema of table1:\")\n",
    "print(pd.read_sql_query(\"PRAGMA table_info(table1);\", conn))\n",
    "print(\"\\nSchema of table2:\")\n",
    "print(pd.read_sql_query(\"PRAGMA table_info(table2);\", conn))\n",
    "print(\"\\nSchema of table3:\")\n",
    "print(pd.read_sql_query(\"PRAGMA table_info(table3);\", conn))\n",
    "print(\"\\nSchema of table4:\")\n",
    "print(pd.read_sql_query(\"PRAGMA table_info(table4);\", conn))\n",
    "\n",
    "query = \"SELECT * FROM table1\"\n",
    "df = pd.read_sql_query(query, conn)\n",
    "print(df)\n"
   ]
  },
  {
   "cell_type": "code",
   "execution_count": 12,
   "id": "bd06881e-3795-46fb-8ef1-d899a030a504",
   "metadata": {},
   "outputs": [
    {
     "name": "stdout",
     "output_type": "stream",
     "text": [
      "        Country    Coffee amt  Production amt      Milk amt      co2_value\n",
      "0        Brazil  3.203250e+04    1.247870e+07  1.868037e+07  236581.910936\n",
      "1      Colombia  8.500632e+03    1.347802e+06  4.403544e+06   49571.564504\n",
      "2    Costa Rica  8.876750e+03    1.550788e+05  5.805105e+05    3949.669359\n",
      "3   El Salvador  7.940143e+03    8.994718e+04  3.154205e+05    3803.565942\n",
      "4      Ethiopia  1.126351e+06    6.396513e+05  2.771252e+06    4091.344007\n",
      "5     Guatemala  1.168429e+04    2.238047e+05  3.268330e+05    6792.301133\n",
      "6      Honduras  1.311462e+04    1.299929e+05  4.194747e+05    4103.297303\n",
      "7     Indonesia  1.282000e+04    1.611994e+06  7.682235e+05  208985.416912\n",
      "8         Kenya  9.032500e+03    3.865305e+05  2.679646e+06    7222.644340\n",
      "10   Madagascar  3.000000e+02    1.655957e+05  4.562410e+05    1444.909033\n",
      "11       Mexico  7.521750e+03    3.728454e+06  7.962930e+06  291449.874831\n",
      "12      Myanmar  3.000000e+03    7.365670e+05  7.400227e+05    8168.768945\n",
      "13    Nicaragua  1.337571e+04    1.303546e+05  5.043063e+05    2807.713257\n",
      "14       Panama  6.000000e+03    1.414099e+05  1.336862e+05    4811.936607\n",
      "15         Peru  1.423500e+04    8.048608e+05  1.128888e+06   27261.554859\n",
      "18     Thailand  3.591667e+01    1.631180e+06  4.173800e+05  113626.533911\n",
      "19       Uganda  1.580000e+04    2.466704e+05  7.640929e+05    1664.419883\n",
      "21      Vietnam  6.227500e+02    1.569078e+06  2.292336e+05   62786.670914\n"
     ]
    }
   ],
   "source": [
    "#Query to join our sql tables on the \"Country\" Column\n",
    "query = '''\n",
    "SELECT table1.Country, table1.\"Coffee amt\", table2.\"Production amt\", table3.\"Milk amt\", table4.co2_value\n",
    "FROM table1\n",
    "LEFT JOIN table2 ON table1.Country = table2.Country\n",
    "LEFT JOIN table3 ON table1.Country = table3.Country\n",
    "LEFT JOIN table4 ON table1.Country = table4.Country\n",
    "'''\n",
    "\n",
    "# Execute the query and load the result into a DataFrame\n",
    "final_df = pd.read_sql_query(query, conn)\n",
    "final_df.dropna(inplace=True)\n",
    "\n",
    "# Close the connection\n",
    "conn.close()\n",
    "\n",
    "# Display the merged DataFrame\n",
    "if final_df is not None:\n",
    "    print(final_df)\n"
   ]
  },
  {
   "cell_type": "code",
   "execution_count": null,
   "id": "5861284e-de68-462a-bdc4-d70ba2478507",
   "metadata": {},
   "outputs": [],
   "source": []
  },
  {
   "cell_type": "markdown",
   "id": "b5a422c8-1f1d-4611-b80d-f5718f6fbb0f",
   "metadata": {},
   "source": [
    "# Prediction Model\n",
    "1. Data\n",
    " - Transforming data\n",
    " - Min-Max Scaling\n",
    " - Standardization\n",
    "2. Prediction Model\n",
    "3. Graph"
   ]
  },
  {
   "cell_type": "code",
   "execution_count": 13,
   "id": "77b3a63b-b509-4c61-a652-0f5bcd972827",
   "metadata": {},
   "outputs": [
    {
     "name": "stdout",
     "output_type": "stream",
     "text": [
      "0    16.742984\n",
      "1    15.297920\n",
      "2    13.271665\n",
      "3    12.661665\n",
      "4    14.834810\n",
      "5    12.697208\n",
      "Name: log_feature_4, dtype: float64\n"
     ]
    }
   ],
   "source": [
    "df_transformed = final_df.copy()\n",
    "\n",
    "# Initialize scalers\n",
    "min_max_scaler = MinMaxScaler()\n",
    "standard_scaler = StandardScaler()\n",
    "\n",
    "# Step 1: Log Transformation for all features\n",
    "df_transformed['log_feature_1'] = np.log1p(final_df['Coffee amt'])\n",
    "df_transformed['log_feature_2'] = np.log1p(final_df['Production amt'])\n",
    "df_transformed['log_feature_3'] = np.log1p(final_df['co2_value'])\n",
    "df_transformed['log_feature_4'] = np.log1p(final_df['Milk amt'])\n",
    "\n",
    "# Step 2: Min-Max Scaling for log-transformed features\n",
    "df_transformed['minmax_scaled_1'] = min_max_scaler.fit_transform(df_transformed[['log_feature_1']])\n",
    "df_transformed['minmax_scaled_2'] = min_max_scaler.fit_transform(df_transformed[['log_feature_2']])\n",
    "df_transformed['minmax_scaled_3'] = min_max_scaler.fit_transform(df_transformed[['log_feature_3']])\n",
    "df_transformed['minmax_scaled_4'] = min_max_scaler.fit_transform(df_transformed[['log_feature_4']])\n",
    "\n",
    "# Step 3: Standardization (Z-score Normalization) for log-transformed features\n",
    "df_transformed['standardized_1'] = standard_scaler.fit_transform(df_transformed[['log_feature_1']])\n",
    "df_transformed['standardized_2'] = standard_scaler.fit_transform(df_transformed[['log_feature_2']])\n",
    "df_transformed['standardized_3'] = standard_scaler.fit_transform(df_transformed[['log_feature_3']])\n",
    "df_transformed['standardized_4'] = standard_scaler.fit_transform(df_transformed[['log_feature_4']])\n",
    "\n",
    "print(df_transformed['log_feature_4'].head(6))"
   ]
  },
  {
   "cell_type": "code",
   "execution_count": 14,
   "id": "7bc6f2d9-297e-42b4-8c47-04a77b57fce4",
   "metadata": {},
   "outputs": [
    {
     "data": {
      "text/plain": [
       "Text(0, 0.5, 'Frequency')"
      ]
     },
     "execution_count": 14,
     "metadata": {},
     "output_type": "execute_result"
    },
    {
     "data": {
      "image/png": "[encoded data removed]",
      "text/plain": [
       "<Figure size 640x480 with 1 Axes>"
      ]
     },
     "metadata": {},
     "output_type": "display_data"
    }
   ],
   "source": [
    "#Log Plot before transformed\n",
    "plt.subplot(1, 3, 2)\n",
    "plt.hist(final_df['Milk amt'], bins=30, color='green', alpha=0.7)\n",
    "plt.title('Milk Distribution')\n",
    "plt.xlabel('Value (Log)')\n",
    "plt.ylabel('Frequency')"
   ]
  },
  {
   "cell_type": "code",
   "execution_count": 15,
   "id": "7e8038af-0711-4093-a82f-437108c26d77",
   "metadata": {},
   "outputs": [
    {
     "data": {
      "text/plain": [
       "Text(0, 0.5, 'Frequency')"
      ]
     },
     "execution_count": 15,
     "metadata": {},
     "output_type": "execute_result"
    },
    {
     "data": {
      "image/png": "[encoded data removed]",
      "text/plain": [
       "<Figure size 640x480 with 1 Axes>"
      ]
     },
     "metadata": {},
     "output_type": "display_data"
    }
   ],
   "source": [
    "#Log Plot after fully transformed\n",
    "plt.subplot(1, 3, 2)\n",
    "plt.hist(df_transformed['log_feature_4'], bins=30, color='green', alpha=0.7)\n",
    "plt.title('Log-Transformed Milk Distribution')\n",
    "plt.xlabel('Value (Log)')\n",
    "plt.ylabel('Frequency')"
   ]
  },
  {
   "cell_type": "code",
   "execution_count": 16,
   "id": "39a054ab-4942-4e0a-8c2f-dbfdf24c57aa",
   "metadata": {},
   "outputs": [
    {
     "data": {
      "text/plain": [
       "Text(0, 0.5, 'Frequency')"
      ]
     },
     "execution_count": 16,
     "metadata": {},
     "output_type": "execute_result"
    },
    {
     "data": {
      "image/png": "[encoded data removed]",
      "text/plain": [
       "<Figure size 640x480 with 1 Axes>"
      ]
     },
     "metadata": {},
     "output_type": "display_data"
    }
   ],
   "source": [
    "#Min-Max Plot\n",
    "plt.subplot(1, 3, 3)\n",
    "plt.hist(df_transformed['minmax_scaled_1'], bins=30, color='orange', alpha=0.7)\n",
    "plt.title('Min-Max Scaled Distribution')\n",
    "plt.xlabel('Scaled Value')\n",
    "plt.ylabel('Frequency')"
   ]
  },
  {
   "cell_type": "code",
   "execution_count": 17,
   "id": "58d71262-02b4-4c4e-b5fc-915faa23bf82",
   "metadata": {},
   "outputs": [
    {
     "name": "stdout",
     "output_type": "stream",
     "text": [
      "Coefficient (Slope): [-0.03194076  1.10871651 -0.21982635]\n",
      "Intercept: 0.0013746199058126685\n"
     ]
    }
   ],
   "source": [
    "#Perform Analysis\n",
    "#x= df_merged[['Coffee amt', 'Production amt', 'Milk amt']]\n",
    "#y= df_merged['co2_value']\n",
    "\n",
    "#x= df_transformed[['log_feature_1', 'log_feature_2', 'log_feature_4']]\n",
    "#y= df_transformed['log_feature_3']\n",
    "\n",
    "#x= df_transformed[['minmax_scaled_1', 'minmax_scaled_2', 'minmax_scaled_4']]\n",
    "#y= df_transformed['minmax_scaled_3']\n",
    "\n",
    "x= df_transformed[['standardized_1', 'standardized_2', 'standardized_4']]\n",
    "y= df_transformed['standardized_3']\n",
    "\n",
    "x_train, x_test, y_train, y_test = train_test_split(x, y, test_size=0.2, random_state=42)\n",
    "\n",
    "model = LinearRegression()\n",
    "model.fit(x_train, y_train)\n",
    "print(\"Coefficient (Slope):\", model.coef_)\n",
    "print(\"Intercept:\", model.intercept_)\n",
    "\n"
   ]
  },
  {
   "cell_type": "code",
   "execution_count": 18,
   "id": "e26ab0df-ce00-4303-a748-b7b4752336d2",
   "metadata": {},
   "outputs": [
    {
     "name": "stdout",
     "output_type": "stream",
     "text": [
      "R-squared: 0.9019957131974331\n",
      "Mean Absolute Error (MAE): 0.22269508355952805\n",
      "Mean Squared Error (MSE): 0.07100066952382011\n",
      "   True Values  Predicted Values\n",
      "0     1.627503          2.085264\n",
      "1     0.726604          0.499823\n",
      "8    -0.383668         -0.457120\n",
      "5    -0.419074         -0.551860\n"
     ]
    }
   ],
   "source": [
    "y_pred = model.predict(x_test)\n",
    "\n",
    "# Evaluate the model using R-squared, Mean Absolute Error, and Mean Squared Error\n",
    "r2 = r2_score(y_test, y_pred)\n",
    "mae = mean_absolute_error(y_test, y_pred)\n",
    "mse = mean_squared_error(y_test, y_pred)\n",
    "\n",
    "# Print evaluation metrics\n",
    "print(\"R-squared:\", r2)\n",
    "print(\"Mean Absolute Error (MAE):\", mae)\n",
    "print(\"Mean Squared Error (MSE):\", mse)\n",
    "\n",
    "# Optionally, you can also print the first few predictions compared to the true values\n",
    "comparison = pd.DataFrame({'True Values': y_test, 'Predicted Values': y_pred})\n",
    "print(comparison.head())"
   ]
  },
  {
   "cell_type": "markdown",
   "id": "678a91fc-08e2-4a53-ba71-6471f0659cf8",
   "metadata": {},
   "source": [
    "# Graph"
   ]
  },
  {
   "cell_type": "code",
   "execution_count": 19,
   "id": "0afceb11-7be6-4360-a504-cc7884a36a09",
   "metadata": {},
   "outputs": [
    {
     "data": {
      "image/png": "[encoded data removed]",
      "text/plain": [
       "<Figure size 640x480 with 1 Axes>"
      ]
     },
     "metadata": {},
     "output_type": "display_data"
    }
   ],
   "source": [
    "# graph with all x and y values!\n",
    "x = np.array(df_transformed['standardized_1'])\n",
    "y = np.array(df_transformed['standardized_3'])\n",
    "\n",
    "plt.scatter(x, y)\n",
    "\n",
    "x = np.array(df_transformed['standardized_2'])\n",
    "y = np.array(df_transformed['standardized_3'])\n",
    "\n",
    "plt.scatter(x, y)\n",
    "\n",
    "x = np.array(df_transformed['standardized_4'])\n",
    "y = np.array(df_transformed['standardized_3'])\n",
    "\n",
    "plt.scatter(x, y)\n",
    "\n",
    "plt.title(\"Coffee, Meat, Milk and CO2 Emissions\")\n",
    "plt.ylabel(\"Tonnes\")\n",
    "plt.xlabel(\"CO2 in Tonnes\")\n",
    "coffee = mpatches.Patch(color = \"steelblue\", label = \"Coffee\")\n",
    "meat = mpatches.Patch(color = \"forestgreen\", label = \"Meat\") \n",
    "milk = mpatches.Patch(color = \"darkorange\", label = \"Milk\")\n",
    "plt.legend(handles=[coffee, meat, milk]) \n",
    "\n",
    "plt.show()"
   ]
  },
  {
   "cell_type": "code",
   "execution_count": null,
   "id": "58c56b59-87d3-4a34-90c0-bf5157262a0e",
   "metadata": {},
   "outputs": [],
   "source": []
  },
  {
   "cell_type": "code",
   "execution_count": null,
   "id": "c8e47f5e-9777-4c2f-acac-02b6b983ca21",
   "metadata": {},
   "outputs": [],
   "source": []
  }
 ],
 "metadata": {
  "kernelspec": {
   "display_name": "Python 3 (ipykernel)",
   "language": "python",
   "name": "python3"
  },
  "language_info": {
   "codemirror_mode": {
    "name": "ipython",
    "version": 3
   },
   "file_extension": ".py",
   "mimetype": "text/x-python",
   "name": "python",
   "nbconvert_exporter": "python",
   "pygments_lexer": "ipython3",
   "version": "3.12.2"
  }
 },
 "nbformat": 4,
 "nbformat_minor": 5
}
